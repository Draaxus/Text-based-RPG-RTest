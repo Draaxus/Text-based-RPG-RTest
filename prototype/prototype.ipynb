{
 "cells": [
  {
   "cell_type": "code",
   "execution_count": 127,
   "metadata": {},
   "outputs": [],
   "source": [
    "from __future__ import annotations\n",
    "from typing import Type, Union\n",
    "from copy import deepcopy"
   ]
  },
  {
   "cell_type": "code",
   "execution_count": 128,
   "metadata": {},
   "outputs": [],
   "source": [
    "class Logic:\n",
    "    def execute(self) -> None:\n",
    "        pass"
   ]
  },
  {
   "cell_type": "code",
   "execution_count": 129,
   "metadata": {},
   "outputs": [],
   "source": [
    "class Game:\n",
    "    def __init__(self, player:Type[Player]) -> None:\n",
    "        self.commands:list[dict[str, Type[Logic]]] = [] # str is the command to call, Type[Logic] is the logic to be executed.\n",
    "        self.player:Type[Player] = player\n",
    "\n",
    "    def set_player(self, player:Type[Player]) -> None:\n",
    "        self.player = player\n",
    "\n",
    "    def add_command(self, command:str, logic:Type[Logic]):\n",
    "        self.commands.append({command:logic})\n",
    "\n",
    "    def run(self) -> None:\n",
    "        while True:\n",
    "            self.describe()\n",
    "            userInput = str(input(\"What would you like to do: \")).lower()\n",
    "\n",
    "            match userInput:\n",
    "                case \"quit\":\n",
    "                    break\n",
    "                case other:\n",
    "                    self.process(userInput)\n",
    "\n",
    "    def process(self, userInput:str) -> None:\n",
    "        arguments = userInput.split()\n",
    "        commandCaller = arguments[0]\n",
    "\n",
    "        if commandCaller == \"describe\":\n",
    "            self.describe()\n",
    "            return None\n",
    "\n",
    "        for i in self.commands:\n",
    "            for _, (j, x) in enumerate(i.items):\n",
    "                if commandCaller == j:\n",
    "                    x.execute()\n",
    "                    return None\n",
    "        else:\n",
    "            print(\"Command not found: {}\".format(commandCaller))\n",
    "            return None\n",
    "    \n",
    "    def describe(self) -> None:\n",
    "        self.player.currentLocation.describe()"
   ]
  },
  {
   "cell_type": "code",
   "execution_count": 130,
   "metadata": {},
   "outputs": [],
   "source": [
    "class Item:\n",
    "    def __init__(self, id:int, name:str, amount:int, maxStack:int) -> None:\n",
    "        self.id:int = id\n",
    "        self.name:str = name\n",
    "        self.amount:int = amount\n",
    "        self.maxStack:int = maxStack"
   ]
  },
  {
   "cell_type": "code",
   "execution_count": 131,
   "metadata": {},
   "outputs": [],
   "source": [
    "class Entity:\n",
    "    def __init__(self, id:int, name:str) -> None:\n",
    "        self.id:int = id\n",
    "        self.name:str = name\n",
    "    \n",
    "    def behavior(self) -> None:\n",
    "        pass"
   ]
  },
  {
   "cell_type": "code",
   "execution_count": 132,
   "metadata": {},
   "outputs": [],
   "source": [
    "class Location:\n",
    "    def __init__(self, id:int, name:str, description:str, north:Type[Location] = None, items:list[Type[Item]] = [], entities:list[Type[Entity]] = [], east:Type[Location] = None, south:Type[Location] = None, west:Type[Location] = None) -> None:\n",
    "        self.id:int = id\n",
    "        self.name:str = name\n",
    "        self.items:list[Type[items]] = items\n",
    "        self.entities:list[Type[Entity]] = entities\n",
    "        self.description:str = description\n",
    "        self.north:Type[Location] = north\n",
    "        self.east:Type[Location] = east\n",
    "        self.south:Type[Location] = south\n",
    "        self.west:Type[Location] = west\n",
    "    \n",
    "    #\n",
    "\n",
    "    def activate(self) -> None:\n",
    "        pass\n",
    "\n",
    "    def describe(self) -> None:\n",
    "        currentEntities:dict[str, int] = {}\n",
    "        for i in self.entities:\n",
    "            if i.name in currentEntities:\n",
    "                currentEntities[i.name] += 1\n",
    "            else:\n",
    "                currentEntities.update({i.name:1})\n",
    "        \n",
    "        currentItems:dict[str, int] = {}\n",
    "        for i in self.items:\n",
    "            if i.name in currentItems:\n",
    "                currentItems[i.name] += 1\n",
    "            else:\n",
    "                currentItems.update({i.name:1})\n",
    "        \n",
    "        entitiesDescribe:str = \", \".join(\"{} {}\".format(entityName, entityCount) for _, (entityName, entityCount) in enumerate(currentEntities.items()))\n",
    "        itemsDescribe:str = \", \".join(\"{} {}\".format(itemName, itemCount) for _, (itemName, itemCount) in enumerate(currentItems.items()))\n",
    "        generalDescribe:str = self.description\n",
    "\n",
    "        if currentEntities != {}:\n",
    "            generalDescribe += \".\\n{}\".format(entitiesDescribe)\n",
    "        if currentItems != {}:\n",
    "            generalDescribe += \".\\n{}\".format(itemsDescribe)\n",
    "        \n",
    "        if self.entities != []:\n",
    "            self.activate()\n",
    "\n",
    "    #\n",
    "\n",
    "    def change_north(self, location:Type[Location]) -> None:\n",
    "        self.north = location\n",
    "    \n",
    "    def change_east(self, location:Type[Location]) -> None:\n",
    "        self.east = location\n",
    "    \n",
    "    def change_south(self, location:Type[Location]) -> None:\n",
    "        self.south = location\n",
    "    \n",
    "    def change_west(self, location:Type[Location]) -> None:\n",
    "        self.west = location\n",
    "    \n",
    "    def change_location(self, direction:str, location:Type[Location]) -> None:\n",
    "        direction = direction.lower()\n",
    "        match direction:\n",
    "            case \"north\":\n",
    "                self.change_north(location)\n",
    "            case \"east\":\n",
    "                self.change_east(location)\n",
    "            case \"south\":\n",
    "                self.change_south(location)\n",
    "            case \"west\":\n",
    "                self.change_west(location)\n",
    "    #\n",
    "\n",
    "    def get_north(self) -> Type[Location]:\n",
    "        return self.north\n",
    "    \n",
    "    def get_east(self) -> Type[Location]:\n",
    "        return self.east\n",
    "    \n",
    "    def get_south(self) -> Type[Location]:\n",
    "        return self.south\n",
    "    \n",
    "    def get_west(self) -> Type[Location]:\n",
    "        return self.west\n",
    "\n",
    "    def get_location(self, direction:str) -> Type[Location]:\n",
    "        direction = direction.lower()\n",
    "        match direction:\n",
    "            case \"north\":\n",
    "                return self.get_north()\n",
    "            case \"east\":\n",
    "                return self.get_east()\n",
    "            case \"south\":\n",
    "                return self.get_south()\n",
    "            case \"west\":\n",
    "                return self.get_west()\n",
    "\n",
    "    def add_item_on_ground(self, item:Type[Item]) -> None:\n",
    "        self.items.append(item)\n",
    "    \n",
    "    def add_items_on_gruond(self, items:list[Type[Item]]) -> None:\n",
    "        self.items.extend(items)\n",
    "    \n",
    "    def add_entity_on_location(self, entity:Type[Entity]) -> None:\n",
    "        self.entities.append(entity)\n",
    "    \n",
    "    def add_entities_on_location(self, entities:list[Type[Entity]]) -> None:\n",
    "        self.entities.extend(entities)"
   ]
  },
  {
   "cell_type": "code",
   "execution_count": 133,
   "metadata": {},
   "outputs": [],
   "source": [
    "class Player:\n",
    "    def __init__(self, id:int, name:str, health:Union[float, int], currentLocation:Type[Location]) -> None:\n",
    "        self.id:int = id\n",
    "        self.name:str = name\n",
    "        self.currentHealth:Union[float, int] = health\n",
    "        self.maxHealth:Union[float, int] = health\n",
    "        self.currentLocation:Type[Location] = currentLocation\n",
    "\n",
    "    def difference_health(self, amount:Union[float, int]) -> None:\n",
    "        if self.currentHealth - amount < 0:\n",
    "            return 0\n",
    "        return self.currentHealth - amount\n",
    "\n",
    "    def check_max(self, amount:Union[float, int]) -> None:\n",
    "        if self.currentHealth + amount > self.maxHealth:\n",
    "            return self.maxHealth\n",
    "        return self.currentHealth + amount\n",
    "\n",
    "    def take_damage(self, amount:Union[float, int]) -> None:\n",
    "        diff:Union[float, int] = self.difference_health(amount)\n",
    "        self.currentHealth = diff\n",
    "\n",
    "    def add_health(self, amount:Union[float, int]) -> None:\n",
    "        checkMax:Union[float, int] = self.check_max(amount)\n",
    "        self.currentHealth = checkMax\n",
    "\n",
    "    def change_location(self, direction:str) -> None:\n",
    "        direction = direction.lower()\n",
    "        newLocation = self.currentLocation.get_location(direction=direction)\n",
    "        directions = [self.currentLocation.north, self.currentLocation.east, self.currentLocation.south, self.currentLocation.west]\n",
    "        for i in directions:\n",
    "            if i != None:\n",
    "                if newLocation.id == i.id:\n",
    "                    self.currentLocation = i\n",
    "                    print(\"You've gone to {}\".format(self.currentLocation.name))\n",
    "                    return None\n",
    "                print(\"There's no such location.\")\n",
    "    \n",
    "    def set_current_location(self, location:Type[Location]) -> None:\n",
    "        self.currentLocation = location"
   ]
  },
  {
   "cell_type": "code",
   "execution_count": 134,
   "metadata": {},
   "outputs": [],
   "source": [
    "class NPC(Entity):\n",
    "    def __init__(self, id: int, name: str) -> None:\n",
    "        super().__init__(id, name)\n",
    "    \n",
    "    def behavior(self) -> None:\n",
    "        return super().behavior()\n",
    "    \n",
    "    def talk(self) -> None:\n",
    "        pass"
   ]
  },
  {
   "cell_type": "code",
   "execution_count": 135,
   "metadata": {},
   "outputs": [],
   "source": [
    "class Enemy(Entity):\n",
    "    def __init__(self, id: int, name: str, health:Union[float, int]) -> None:\n",
    "        self.currentHealth:Union[float, int] = health\n",
    "        self.maxHealth:Union[float, int] = health\n",
    "        super().__init__(id, name)\n",
    "    \n",
    "    def behavior(self) -> None:\n",
    "        return super().behavior()\n",
    "\n",
    "    # How the enemy will take damage.\n",
    "    def take_damage(self) -> None:\n",
    "        pass\n",
    "\n",
    "    # How the enemy will attack.\n",
    "    def attack(self) -> None:\n",
    "        pass"
   ]
  },
  {
   "cell_type": "code",
   "execution_count": 136,
   "metadata": {},
   "outputs": [],
   "source": [
    "class EnemyQuestion(Enemy):\n",
    "    def __init__(self, id: int, name: str, health: Union[float, int]) -> None:\n",
    "        super().__init__(id, name, health)\n",
    "    \n",
    "    def behavior(self) -> None:\n",
    "        return super().behavior()\n",
    "    \n",
    "    def take_damage(self) -> None:\n",
    "        return super().take_damage()\n",
    "    \n",
    "    # The attack should be prompting a question.\n",
    "    def attack(self) -> None:\n",
    "        return super().attack()"
   ]
  },
  {
   "cell_type": "code",
   "execution_count": 137,
   "metadata": {},
   "outputs": [],
   "source": [
    "class World:\n",
    "    pass"
   ]
  },
  {
   "attachments": {},
   "cell_type": "markdown",
   "metadata": {},
   "source": [
    "----------------------------------------------------"
   ]
  },
  {
   "cell_type": "code",
   "execution_count": 138,
   "metadata": {},
   "outputs": [],
   "source": [
    "# firstLocation = Location(1, \"test location 1\", \"\")\n",
    "# secondLocation = Location(2, \"test location 2\", \"\")\n",
    "# firstLocation.change_north(secondLocation)\n",
    "# secondLocation.change_south(firstLocation)\n",
    "# player = Player(1, \"test\", 4, firstLocation)"
   ]
  },
  {
   "cell_type": "code",
   "execution_count": 139,
   "metadata": {},
   "outputs": [],
   "source": [
    "# player.change_location(\"north\")"
   ]
  },
  {
   "cell_type": "code",
   "execution_count": 140,
   "metadata": {},
   "outputs": [],
   "source": [
    "# print(player.currentLocation.name)"
   ]
  },
  {
   "cell_type": "code",
   "execution_count": 141,
   "metadata": {},
   "outputs": [],
   "source": [
    "# player.change_location(\"south\")"
   ]
  },
  {
   "attachments": {},
   "cell_type": "markdown",
   "metadata": {},
   "source": [
    "------------------------------------"
   ]
  },
  {
   "cell_type": "code",
   "execution_count": 142,
   "metadata": {},
   "outputs": [],
   "source": [
    "firstLocation = Location(1, \"test location 1\", \"\")\n",
    "secondLocation = Location(2, \"test location 2\", \"\")\n",
    "firstLocation.change_north(secondLocation)\n",
    "secondLocation.change_south(firstLocation)\n",
    "player = Player(1, \"test\", 4, firstLocation)"
   ]
  },
  {
   "cell_type": "code",
   "execution_count": 144,
   "metadata": {},
   "outputs": [],
   "source": [
    "game = Game(player=player)\n",
    "game.run()"
   ]
  }
 ],
 "metadata": {
  "kernelspec": {
   "display_name": "Text-based_RPG-rUvR7qKh",
   "language": "python",
   "name": "python3"
  },
  "language_info": {
   "codemirror_mode": {
    "name": "ipython",
    "version": 3
   },
   "file_extension": ".py",
   "mimetype": "text/x-python",
   "name": "python",
   "nbconvert_exporter": "python",
   "pygments_lexer": "ipython3",
   "version": "3.11.1"
  },
  "orig_nbformat": 4,
  "vscode": {
   "interpreter": {
    "hash": "2b0851263beaa06b6ce5d171ca6457bc09adc7a9d5fa1fdb3b6f97e236246565"
   }
  }
 },
 "nbformat": 4,
 "nbformat_minor": 2
}
